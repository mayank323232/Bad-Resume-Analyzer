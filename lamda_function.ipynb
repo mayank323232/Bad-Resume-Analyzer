import json
import boto3
import google.generativeai as genai
import pypdf
import os
import logging

logger = logging.getLogger()
logger.setLevel(logging.INFO)


GEMINI_API_KEY = "your-api-key here"  
genai.configure(api_key=GEMINI_API_KEY)

s3 = boto3.client("s3")

def extract_text_from_pdf(s3_bucket, file_key):

    temp_pdf = f"/tmp/{os.path.basename(file_key)}"  
    
    try:
        logger.info(f"Downloading {file_key} from bucket {s3_bucket}")
        s3.download_file(s3_bucket, file_key, temp_pdf)
        
        
        text = ""
        with open(temp_pdf, "rb") as f:
            reader = pypdf.PdfReader(f)
            for page in reader.pages:
                text += page.extract_text() or ""  

        os.remove(temp_pdf)  
        return text.strip()
    
    except Exception as e:
        logger.error(f"Error extracting text: {str(e)}")
        raise e

def analyze_resume_with_gemini(resume_text):
    
    try:
        prompt = f"""
        Analyze this resume text and provide humorous(use hinglish slangs and add some meme slangs if u can if it works in adding humour) but constructive feedback in Hinglish(within 2-3 lines).
        Don't put headline as humourous but constructive feedback , heading should be "Feedback".

        Resume Text:
        {resume_text}

        Provide a structured response.
        """
        model_name = "gemini-1.5-flash-latest"  
        model = genai.GenerativeModel(model_name)
        response = model.generate_content(prompt)
        return response.text if response and hasattr(response, "text") else "No feedback generated."
    
    except Exception as e:
        logger.error(f"Error with Gemini API: {str(e)}")
        raise e

def lambda_handler(event, context):
    """AWS Lambda entry point."""
    try:
        logger.info(f"Received event: {event}")
        
        
        body = json.loads(event["body"]) if "body" in event else event

       
        if "s3_bucket" not in body or "file_key" not in body:
            raise ValueError("Missing required parameters: 's3_bucket' and 'file_key'")

        s3_bucket = body["s3_bucket"]
        file_key = body["file_key"]

       
        resume_text = extract_text_from_pdf(s3_bucket, file_key)

        
        feedback = analyze_resume_with_gemini(resume_text)

        return {
            "statusCode": 200,
            "headers": {"Content-Type": "application/json"},
            "body": json.dumps({"feedback": feedback}, indent=4)
            }


    except Exception as e:
        logger.error(f"Lambda function error: {str(e)}")
        return {
            "statusCode": 500,
            "body": json.dumps({"error": str(e)})
        }
